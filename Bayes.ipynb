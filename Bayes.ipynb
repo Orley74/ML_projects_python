{
  "nbformat": 4,
  "nbformat_minor": 0,
  "metadata": {
    "colab": {
      "provenance": [],
      "authorship_tag": "ABX9TyPp7moUQhDZBgaVH1M+urvu",
      "include_colab_link": true
    },
    "kernelspec": {
      "name": "python3",
      "display_name": "Python 3"
    },
    "language_info": {
      "name": "python"
    }
  },
  "cells": [
    {
      "cell_type": "markdown",
      "metadata": {
        "id": "view-in-github",
        "colab_type": "text"
      },
      "source": [
        "<a href=\"https://colab.research.google.com/github/Orley74/ML_projects_python/blob/main/Bayes.ipynb\" target=\"_parent\"><img src=\"https://colab.research.google.com/assets/colab-badge.svg\" alt=\"Open In Colab\"/></a>"
      ]
    },
    {
      "cell_type": "markdown",
      "source": [
        "Dane wrzuciłem na github aby można było je pobrać i wykorzystać w środowisku google colab"
      ],
      "metadata": {
        "id": "GG-yhgK6x-KY"
      }
    },
    {
      "cell_type": "code",
      "execution_count": 275,
      "metadata": {
        "colab": {
          "base_uri": "https://localhost:8080/"
        },
        "id": "7PpOaFpXwrhT",
        "outputId": "b386631c-53f9-47a3-dd6a-8320f2921163"
      },
      "outputs": [
        {
          "output_type": "stream",
          "name": "stdout",
          "text": [
            "fatal: destination path 'Mandrill' already exists and is not an empty directory.\n",
            "Requirement already satisfied: langdetect in /usr/local/lib/python3.10/dist-packages (1.0.9)\n",
            "Requirement already satisfied: six in /usr/local/lib/python3.10/dist-packages (from langdetect) (1.16.0)\n",
            "2024-01-15 14:58:06.560303: E external/local_xla/xla/stream_executor/cuda/cuda_dnn.cc:9261] Unable to register cuDNN factory: Attempting to register factory for plugin cuDNN when one has already been registered\n",
            "2024-01-15 14:58:06.560387: E external/local_xla/xla/stream_executor/cuda/cuda_fft.cc:607] Unable to register cuFFT factory: Attempting to register factory for plugin cuFFT when one has already been registered\n",
            "2024-01-15 14:58:06.562327: E external/local_xla/xla/stream_executor/cuda/cuda_blas.cc:1515] Unable to register cuBLAS factory: Attempting to register factory for plugin cuBLAS when one has already been registered\n",
            "2024-01-15 14:58:08.283857: W tensorflow/compiler/tf2tensorrt/utils/py_utils.cc:38] TF-TRT Warning: Could not find TensorRT\n",
            "Collecting en-core-web-sm==3.6.0\n",
            "  Downloading https://github.com/explosion/spacy-models/releases/download/en_core_web_sm-3.6.0/en_core_web_sm-3.6.0-py3-none-any.whl (12.8 MB)\n",
            "\u001b[2K     \u001b[90m━━━━━━━━━━━━━━━━━━━━━━━━━━━━━━━━━━━━━━━━\u001b[0m \u001b[32m12.8/12.8 MB\u001b[0m \u001b[31m48.7 MB/s\u001b[0m eta \u001b[36m0:00:00\u001b[0m\n",
            "\u001b[?25hRequirement already satisfied: spacy<3.7.0,>=3.6.0 in /usr/local/lib/python3.10/dist-packages (from en-core-web-sm==3.6.0) (3.6.1)\n",
            "Requirement already satisfied: spacy-legacy<3.1.0,>=3.0.11 in /usr/local/lib/python3.10/dist-packages (from spacy<3.7.0,>=3.6.0->en-core-web-sm==3.6.0) (3.0.12)\n",
            "Requirement already satisfied: spacy-loggers<2.0.0,>=1.0.0 in /usr/local/lib/python3.10/dist-packages (from spacy<3.7.0,>=3.6.0->en-core-web-sm==3.6.0) (1.0.5)\n",
            "Requirement already satisfied: murmurhash<1.1.0,>=0.28.0 in /usr/local/lib/python3.10/dist-packages (from spacy<3.7.0,>=3.6.0->en-core-web-sm==3.6.0) (1.0.10)\n",
            "Requirement already satisfied: cymem<2.1.0,>=2.0.2 in /usr/local/lib/python3.10/dist-packages (from spacy<3.7.0,>=3.6.0->en-core-web-sm==3.6.0) (2.0.8)\n",
            "Requirement already satisfied: preshed<3.1.0,>=3.0.2 in /usr/local/lib/python3.10/dist-packages (from spacy<3.7.0,>=3.6.0->en-core-web-sm==3.6.0) (3.0.9)\n",
            "Requirement already satisfied: thinc<8.2.0,>=8.1.8 in /usr/local/lib/python3.10/dist-packages (from spacy<3.7.0,>=3.6.0->en-core-web-sm==3.6.0) (8.1.12)\n",
            "Requirement already satisfied: wasabi<1.2.0,>=0.9.1 in /usr/local/lib/python3.10/dist-packages (from spacy<3.7.0,>=3.6.0->en-core-web-sm==3.6.0) (1.1.2)\n",
            "Requirement already satisfied: srsly<3.0.0,>=2.4.3 in /usr/local/lib/python3.10/dist-packages (from spacy<3.7.0,>=3.6.0->en-core-web-sm==3.6.0) (2.4.8)\n",
            "Requirement already satisfied: catalogue<2.1.0,>=2.0.6 in /usr/local/lib/python3.10/dist-packages (from spacy<3.7.0,>=3.6.0->en-core-web-sm==3.6.0) (2.0.10)\n",
            "Requirement already satisfied: typer<0.10.0,>=0.3.0 in /usr/local/lib/python3.10/dist-packages (from spacy<3.7.0,>=3.6.0->en-core-web-sm==3.6.0) (0.9.0)\n",
            "Requirement already satisfied: pathy>=0.10.0 in /usr/local/lib/python3.10/dist-packages (from spacy<3.7.0,>=3.6.0->en-core-web-sm==3.6.0) (0.10.3)\n",
            "Requirement already satisfied: smart-open<7.0.0,>=5.2.1 in /usr/local/lib/python3.10/dist-packages (from spacy<3.7.0,>=3.6.0->en-core-web-sm==3.6.0) (6.4.0)\n",
            "Requirement already satisfied: tqdm<5.0.0,>=4.38.0 in /usr/local/lib/python3.10/dist-packages (from spacy<3.7.0,>=3.6.0->en-core-web-sm==3.6.0) (4.66.1)\n",
            "Requirement already satisfied: numpy>=1.15.0 in /usr/local/lib/python3.10/dist-packages (from spacy<3.7.0,>=3.6.0->en-core-web-sm==3.6.0) (1.23.5)\n",
            "Requirement already satisfied: requests<3.0.0,>=2.13.0 in /usr/local/lib/python3.10/dist-packages (from spacy<3.7.0,>=3.6.0->en-core-web-sm==3.6.0) (2.31.0)\n",
            "Requirement already satisfied: pydantic!=1.8,!=1.8.1,<3.0.0,>=1.7.4 in /usr/local/lib/python3.10/dist-packages (from spacy<3.7.0,>=3.6.0->en-core-web-sm==3.6.0) (1.10.13)\n",
            "Requirement already satisfied: jinja2 in /usr/local/lib/python3.10/dist-packages (from spacy<3.7.0,>=3.6.0->en-core-web-sm==3.6.0) (3.1.2)\n",
            "Requirement already satisfied: setuptools in /usr/local/lib/python3.10/dist-packages (from spacy<3.7.0,>=3.6.0->en-core-web-sm==3.6.0) (67.7.2)\n",
            "Requirement already satisfied: packaging>=20.0 in /usr/local/lib/python3.10/dist-packages (from spacy<3.7.0,>=3.6.0->en-core-web-sm==3.6.0) (23.2)\n",
            "Requirement already satisfied: langcodes<4.0.0,>=3.2.0 in /usr/local/lib/python3.10/dist-packages (from spacy<3.7.0,>=3.6.0->en-core-web-sm==3.6.0) (3.3.0)\n",
            "Requirement already satisfied: typing-extensions>=4.2.0 in /usr/local/lib/python3.10/dist-packages (from pydantic!=1.8,!=1.8.1,<3.0.0,>=1.7.4->spacy<3.7.0,>=3.6.0->en-core-web-sm==3.6.0) (4.5.0)\n",
            "Requirement already satisfied: charset-normalizer<4,>=2 in /usr/local/lib/python3.10/dist-packages (from requests<3.0.0,>=2.13.0->spacy<3.7.0,>=3.6.0->en-core-web-sm==3.6.0) (3.3.2)\n",
            "Requirement already satisfied: idna<4,>=2.5 in /usr/local/lib/python3.10/dist-packages (from requests<3.0.0,>=2.13.0->spacy<3.7.0,>=3.6.0->en-core-web-sm==3.6.0) (3.6)\n",
            "Requirement already satisfied: urllib3<3,>=1.21.1 in /usr/local/lib/python3.10/dist-packages (from requests<3.0.0,>=2.13.0->spacy<3.7.0,>=3.6.0->en-core-web-sm==3.6.0) (2.0.7)\n",
            "Requirement already satisfied: certifi>=2017.4.17 in /usr/local/lib/python3.10/dist-packages (from requests<3.0.0,>=2.13.0->spacy<3.7.0,>=3.6.0->en-core-web-sm==3.6.0) (2023.11.17)\n",
            "Requirement already satisfied: blis<0.8.0,>=0.7.8 in /usr/local/lib/python3.10/dist-packages (from thinc<8.2.0,>=8.1.8->spacy<3.7.0,>=3.6.0->en-core-web-sm==3.6.0) (0.7.11)\n",
            "Requirement already satisfied: confection<1.0.0,>=0.0.1 in /usr/local/lib/python3.10/dist-packages (from thinc<8.2.0,>=8.1.8->spacy<3.7.0,>=3.6.0->en-core-web-sm==3.6.0) (0.1.4)\n",
            "Requirement already satisfied: click<9.0.0,>=7.1.1 in /usr/local/lib/python3.10/dist-packages (from typer<0.10.0,>=0.3.0->spacy<3.7.0,>=3.6.0->en-core-web-sm==3.6.0) (8.1.7)\n",
            "Requirement already satisfied: MarkupSafe>=2.0 in /usr/local/lib/python3.10/dist-packages (from jinja2->spacy<3.7.0,>=3.6.0->en-core-web-sm==3.6.0) (2.1.3)\n",
            "\u001b[38;5;2m✔ Download and installation successful\u001b[0m\n",
            "You can now load the package via spacy.load('en_core_web_sm')\n"
          ]
        }
      ],
      "source": [
        "!git clone https://github.com/Orley74/Mandrill.git\n",
        "!pip install langdetect\n",
        "!python -m spacy download en_core_web_sm\n",
        "import pandas as pd\n",
        "import sklearn\n",
        "from sklearn.feature_extraction.text import TfidfVectorizer, CountVectorizer, TfidfTransformer\n",
        "from sklearn.model_selection import train_test_split\n",
        "import spacy\n",
        "from langdetect import detect\n",
        "import string\n"
      ]
    },
    {
      "cell_type": "markdown",
      "source": [
        "Funkcja wykrywająca język, jeżeli funckja zwróci, może ona wykrywać języki:\n",
        "af, ar, bg, bn, ca, cs, cy, da, de, el, en, es, et, fa, fi, fr, gu, he,\n",
        "hi, hr, hu, id, it, ja, kn, ko, lt, lv, mk, ml, mr, ne, nl, no, pa, pl,\n",
        "pt, ro, ru, sk, sl, so, sq, sv, sw, ta, te, th, tl, tr, uk, ur, vi, zh-cn, zh-tw\n",
        "\n",
        "w przypadku innego języka wysąpi błąd, więc będziemy traktować tekst jako język angielski"
      ],
      "metadata": {
        "id": "rMBhT80qy99P"
      }
    },
    {
      "cell_type": "code",
      "source": [
        "def text_language(data):\n",
        "    try:\n",
        "        language = detect(data)\n",
        "    except:\n",
        "        return 'en'\n",
        "    return language"
      ],
      "metadata": {
        "id": "IzTmEtJcy9T_"
      },
      "execution_count": 276,
      "outputs": []
    },
    {
      "cell_type": "markdown",
      "source": [
        "Teraz zdefiniuję funkcje preprocesu textu, która usuwa znaki interpunkcyjne i sprowadza słowa do lemanów"
      ],
      "metadata": {
        "id": "v-qRihjTz79p"
      }
    },
    {
      "cell_type": "code",
      "source": [
        "nlp = spacy.load(\"en_core_web_sm\")\n",
        "def preprocess(text, lang='en'):\n",
        "\n",
        "  for text in text:\n",
        "    text = text.translate(str.maketrans('', '', string.punctuation))\n",
        "    text = text.lower()\n",
        "\n",
        "    tokens = nlp(text)\n",
        "    tokens = \" \".join([token.lemma_ for token in tokens])\n",
        "\n",
        "  return tokens\n",
        "\n",
        "print(preprocess(\"Hello[]\\] i am tired\"))"
      ],
      "metadata": {
        "id": "tIUhoDtrz_Jv",
        "colab": {
          "base_uri": "https://localhost:8080/"
        },
        "outputId": "59b2cfbf-6d5e-4855-e36e-0f82807be088"
      },
      "execution_count": 277,
      "outputs": [
        {
          "output_type": "stream",
          "name": "stdout",
          "text": [
            "d\n"
          ]
        }
      ]
    },
    {
      "cell_type": "markdown",
      "source": [
        "Przypisuję dane z pliku excel do zmiennej excel data, jako że plik zawiera arkusze dla obu wywołuję funkcję wykrywającą język i stosuję lematyzację."
      ],
      "metadata": {
        "id": "4JNv_jKPyLO4"
      }
    },
    {
      "cell_type": "code",
      "source": [
        "# print()\n",
        "data = pd.read_excel(os.path.join(os.path.curdir,\"Mandrill/Mandril.xlsx\"), sheet_name=None)"
      ],
      "metadata": {
        "id": "hHC-MB3Sx654",
        "colab": {
          "base_uri": "https://localhost:8080/"
        },
        "outputId": "4c5248a0-8a6a-48e2-8819-5df0dfc83574"
      },
      "execution_count": 278,
      "outputs": [
        {
          "output_type": "stream",
          "name": "stderr",
          "text": [
            "/usr/local/lib/python3.10/dist-packages/openpyxl/worksheet/_reader.py:329: UserWarning: Unknown extension is not supported and will be removed\n",
            "  warn(msg)\n",
            "/usr/local/lib/python3.10/dist-packages/openpyxl/worksheet/_reader.py:329: UserWarning: Unknown extension is not supported and will be removed\n",
            "  warn(msg)\n"
          ]
        }
      ]
    },
    {
      "cell_type": "markdown",
      "source": [
        "Po wyswietleniu danych widac ze jest to dict o indexach 'dot. aplikacji Mandrill' i 'dot. innych'"
      ],
      "metadata": {
        "id": "uv3kl7_98ylB"
      }
    },
    {
      "cell_type": "code",
      "source": [
        "data"
      ],
      "metadata": {
        "colab": {
          "base_uri": "https://localhost:8080/"
        },
        "id": "pqTOAlW28tNI",
        "outputId": "437e1bf7-755c-4218-f96c-27496cada72d"
      },
      "execution_count": 279,
      "outputs": [
        {
          "output_type": "execute_result",
          "data": {
            "text/plain": [
              "{'dot. aplikacji Mandrill':                                                   Post\n",
              " 0    [blog] Using Nullmailer and Mandrill for your ...\n",
              " 1    [blog] Using Postfix and free Mandrill email s...\n",
              " 2    @aalbertson There are several reasons emails g...\n",
              " 3    @adrienneleigh I just switched it over to Mand...\n",
              " 4    @ankeshk +1 to @mailchimp We use MailChimp for...\n",
              " ..                                                 ...\n",
              " 145  We've simplified and reduced pricing for every...\n",
              " 146  We’re Unifying Your Mandrill and MailChimp Dat...\n",
              " 147  Whaaat, I didn't know @MailChimp had an email ...\n",
              " 148  would like to send emails for welcome, passwor...\n",
              " 149  Zapier Makes Mandrill Integration Easy | Mandr...\n",
              " \n",
              " [150 rows x 1 columns],\n",
              " 'dot. innych':                                                   Post\n",
              " 0                ¿En donde esta su remontada Mandrill?\n",
              " 1    .@Katie_PhD Alternate, 'reproachful mandrill' ...\n",
              " 2    .@theophani can i get \"drill\" in there? it wou...\n",
              " 3    “@ChrisJBoyland: Baby Mandrill Paignton Zoo 29...\n",
              " 4    “@MISSMYA #NameAnAmazingBand MANDRILL!” Mint C...\n",
              " ..                                                 ...\n",
              " 145  Why Are Monkey Butts So Colorful?: Mandrill Wi...\n",
              " 146  You can now experience the thrills of classic ...\n",
              " 147  ジャンルごった煮のバンド、Mandrillの75年作！オススメはOddiseeがサンプリング...\n",
              " 148  パーカッシヴなビートに重厚なベースやスペイシーなシンセ等が絡むB1が◎な80年の好作！シッカ...\n",
              " 149  最近ではNottz feat Pete Rock / Turn It Upでも使われていたレ...\n",
              " \n",
              " [150 rows x 1 columns]}"
            ]
          },
          "metadata": {},
          "execution_count": 279
        }
      ]
    },
    {
      "cell_type": "markdown",
      "source": [
        "Dla kazdego z tych danych wywoluje funkcje przygotowane wczesniej, dzieki pandas moge uzyc tych funkcji dla kazdego wiersza przy pomocy metody apply dla pandas dataframe"
      ],
      "metadata": {
        "id": "rnHUXnzz88vh"
      }
    },
    {
      "cell_type": "code",
      "source": [
        "for category in data:\n",
        "    data[category]['Language'] = data[category]['Post'].apply(text_language)\n",
        "    data[category]['Leman'] = data[category].apply(lambda row: preprocess([row['Post']], row['Language']), axis=1)\n"
      ],
      "metadata": {
        "id": "SiK777Dg866f"
      },
      "execution_count": 280,
      "outputs": []
    },
    {
      "cell_type": "markdown",
      "source": [
        "Wyswietlam zlematyzowane dane"
      ],
      "metadata": {
        "id": "2LmoBB-uCx3h"
      }
    },
    {
      "cell_type": "code",
      "source": [
        "data['dot. aplikacji Mandrill']['Leman']"
      ],
      "metadata": {
        "colab": {
          "base_uri": "https://localhost:8080/"
        },
        "id": "OJUgJZkE9szI",
        "outputId": "ee9702c6-7c1e-48a2-e0f9-fb3e339f12fd"
      },
      "execution_count": 281,
      "outputs": [
        {
          "output_type": "execute_result",
          "data": {
            "text/plain": [
              "0      blog use nullmailer and mandrill for your ubun...\n",
              "1      blog use postfix and free mandrill email servi...\n",
              "2      aalbertson there be several reason email go to...\n",
              "3      adrienneleigh I just switch it over to mandril...\n",
              "4      ankeshk 1 to mailchimp we use mailchimp for ma...\n",
              "                             ...                        \n",
              "145    we ve simplify and reduced pricing for everyon...\n",
              "146    we ’re unify your mandrill and mailchimp data ...\n",
              "147    whaaat I do not know mailchimp have an email d...\n",
              "148    would like to send email for welcome password ...\n",
              "149    zapier make mandrill integration easy   mandri...\n",
              "Name: Leman, Length: 150, dtype: object"
            ]
          },
          "metadata": {},
          "execution_count": 281
        }
      ]
    },
    {
      "cell_type": "markdown",
      "source": [
        "Łączę oba zbiory danych tworząc jeden i przypisuje im dodatkowo wartości 0 - dla dot. innych i 1 - dla aplikacji Mandrill"
      ],
      "metadata": {
        "id": "Mz1-BScJGHp5"
      }
    },
    {
      "cell_type": "code",
      "source": [
        "len_mandrill = len(data['dot. aplikacji Mandrill'])\n",
        "len_inne = len(data['dot. innych'])\n",
        "print(len_mandrill,len_inne)\n",
        "\n",
        "all_data = pd.concat([data['dot. aplikacji Mandrill'], data['dot. innych']])\n",
        "all_data['Category'] = [1] * len_mandrill + [0] * len_inne"
      ],
      "metadata": {
        "colab": {
          "base_uri": "https://localhost:8080/"
        },
        "id": "leq1FMloADbw",
        "outputId": "d23a2750-8058-4f2a-e327-ce068ab40d17"
      },
      "execution_count": 282,
      "outputs": [
        {
          "output_type": "stream",
          "name": "stdout",
          "text": [
            "150 150\n"
          ]
        }
      ]
    },
    {
      "cell_type": "code",
      "source": [
        "print(all_data['Leman'])"
      ],
      "metadata": {
        "colab": {
          "base_uri": "https://localhost:8080/"
        },
        "id": "61sdYxtnI4hi",
        "outputId": "0bd2553f-fb32-4403-93f2-a8bff664a4f9"
      },
      "execution_count": 283,
      "outputs": [
        {
          "output_type": "stream",
          "name": "stdout",
          "text": [
            "0      blog use nullmailer and mandrill for your ubun...\n",
            "1      blog use postfix and free mandrill email servi...\n",
            "2      aalbertson there be several reason email go to...\n",
            "3      adrienneleigh I just switch it over to mandril...\n",
            "4      ankeshk 1 to mailchimp we use mailchimp for ma...\n",
            "                             ...                        \n",
            "145    why be monkey butts so colorful mandrill wikim...\n",
            "146    you can now experience the thrill of classic p...\n",
            "147    ジャンルごった煮のバンド、mandrillの75年作！オススメはoddiseeがサンプリング...\n",
            "148    パーカッシヴなビートに重厚なベースやスペイシーなシンセ等が絡むb1が ◎ な80年の好作！シ...\n",
            "149    最近ではnottz feat pete rock   turn it upでも使われていたレ...\n",
            "Name: Leman, Length: 300, dtype: object\n"
          ]
        }
      ]
    },
    {
      "cell_type": "markdown",
      "source": [
        "Stworzenie obiektu TF-IDF Vectorizer, TF - term frequency IDF - unikalność słowa w korpusie tekstu TF/len(korpus),macierz TF-IDF powstaje w wyniku pomnożenia tych wartości.\n",
        "Dane są w postaci listy więc muszę ustawić tokenizer, który będzie jako korpus traktował wiersz."
      ],
      "metadata": {
        "id": "iz39ZgbuD9dZ"
      }
    },
    {
      "cell_type": "code",
      "source": [
        "# vectorizer = TfidfVectorizer(tokenizer=lambda x: x, lowercase=False)\n",
        "# vectorized_data = vectorizer.fit_transform(all_data['Leman'])\n",
        "vectorized = CountVectorizer(tokenizer=lambda x: x)\n",
        "X = vectorizer.fit_transform(all_data['Leman'])"
      ],
      "metadata": {
        "id": "B_fpiNgcB_4w"
      },
      "execution_count": 284,
      "outputs": []
    },
    {
      "cell_type": "code",
      "source": [
        "all_data['Leman'] = all_data['Leman'].apply(lambda x: ''.join(x))\n",
        "print(all_data['Leman'])\n",
        "count_vectorizer = CountVectorizer(lowercase=False)\n",
        "\n",
        "# Przekształcenie danych na macierz binarną\n",
        "binary_matrix = count_vectorizer.fit_transform(all_data['Leman'])\n",
        "\n"
      ],
      "metadata": {
        "colab": {
          "base_uri": "https://localhost:8080/"
        },
        "id": "NMZU0YSHP2wB",
        "outputId": "ce201656-0fd3-49f1-9029-b2764a9c21d6"
      },
      "execution_count": 285,
      "outputs": [
        {
          "output_type": "stream",
          "name": "stdout",
          "text": [
            "0      blog use nullmailer and mandrill for your ubun...\n",
            "1      blog use postfix and free mandrill email servi...\n",
            "2      aalbertson there be several reason email go to...\n",
            "3      adrienneleigh I just switch it over to mandril...\n",
            "4      ankeshk 1 to mailchimp we use mailchimp for ma...\n",
            "                             ...                        \n",
            "145    why be monkey butts so colorful mandrill wikim...\n",
            "146    you can now experience the thrill of classic p...\n",
            "147    ジャンルごった煮のバンド、mandrillの75年作！オススメはoddiseeがサンプリング...\n",
            "148    パーカッシヴなビートに重厚なベースやスペイシーなシンセ等が絡むb1が ◎ な80年の好作！シ...\n",
            "149    最近ではnottz feat pete rock   turn it upでも使われていたレ...\n",
            "Name: Leman, Length: 300, dtype: object\n"
          ]
        }
      ]
    },
    {
      "cell_type": "markdown",
      "source": [
        "Dziele zbiór na testowy i treningowy w proporcji 70% treningowy i 30% testowy, random_state działa jak seed czyli losuje zawsze taki sam zbiór"
      ],
      "metadata": {
        "id": "jqVgLVXWFDux"
      }
    },
    {
      "cell_type": "code",
      "source": [
        "x_train, x_test, y_train, y_test = train_test_split(binary_matrix, all_data['Category'], test_size=0.3, random_state=123)\n"
      ],
      "metadata": {
        "id": "HHpma1c9CBII"
      },
      "execution_count": 286,
      "outputs": []
    },
    {
      "cell_type": "markdown",
      "source": [
        "Tworzę model naiwnego klasyfikatora Bayesa i trenuję go danymi uczącymi, niestety scikit-learn nie zapisuje historii uczenia jak np. Tensorflow, dlatego nie mogę wyświetlić statystyk uczenia"
      ],
      "metadata": {
        "id": "3jqmfQooGYSI"
      }
    },
    {
      "cell_type": "code",
      "source": [
        "model = sklearn.naive_bayes.MultinomialNB()\n",
        "model.fit(x_train, y_train)"
      ],
      "metadata": {
        "colab": {
          "base_uri": "https://localhost:8080/",
          "height": 74
        },
        "id": "xZb6febbCCr7",
        "outputId": "66f55c27-b753-495e-9854-d8c2b664463c"
      },
      "execution_count": 287,
      "outputs": [
        {
          "output_type": "execute_result",
          "data": {
            "text/plain": [
              "MultinomialNB()"
            ],
            "text/html": [
              "<style>#sk-container-id-20 {color: black;background-color: white;}#sk-container-id-20 pre{padding: 0;}#sk-container-id-20 div.sk-toggleable {background-color: white;}#sk-container-id-20 label.sk-toggleable__label {cursor: pointer;display: block;width: 100%;margin-bottom: 0;padding: 0.3em;box-sizing: border-box;text-align: center;}#sk-container-id-20 label.sk-toggleable__label-arrow:before {content: \"▸\";float: left;margin-right: 0.25em;color: #696969;}#sk-container-id-20 label.sk-toggleable__label-arrow:hover:before {color: black;}#sk-container-id-20 div.sk-estimator:hover label.sk-toggleable__label-arrow:before {color: black;}#sk-container-id-20 div.sk-toggleable__content {max-height: 0;max-width: 0;overflow: hidden;text-align: left;background-color: #f0f8ff;}#sk-container-id-20 div.sk-toggleable__content pre {margin: 0.2em;color: black;border-radius: 0.25em;background-color: #f0f8ff;}#sk-container-id-20 input.sk-toggleable__control:checked~div.sk-toggleable__content {max-height: 200px;max-width: 100%;overflow: auto;}#sk-container-id-20 input.sk-toggleable__control:checked~label.sk-toggleable__label-arrow:before {content: \"▾\";}#sk-container-id-20 div.sk-estimator input.sk-toggleable__control:checked~label.sk-toggleable__label {background-color: #d4ebff;}#sk-container-id-20 div.sk-label input.sk-toggleable__control:checked~label.sk-toggleable__label {background-color: #d4ebff;}#sk-container-id-20 input.sk-hidden--visually {border: 0;clip: rect(1px 1px 1px 1px);clip: rect(1px, 1px, 1px, 1px);height: 1px;margin: -1px;overflow: hidden;padding: 0;position: absolute;width: 1px;}#sk-container-id-20 div.sk-estimator {font-family: monospace;background-color: #f0f8ff;border: 1px dotted black;border-radius: 0.25em;box-sizing: border-box;margin-bottom: 0.5em;}#sk-container-id-20 div.sk-estimator:hover {background-color: #d4ebff;}#sk-container-id-20 div.sk-parallel-item::after {content: \"\";width: 100%;border-bottom: 1px solid gray;flex-grow: 1;}#sk-container-id-20 div.sk-label:hover label.sk-toggleable__label {background-color: #d4ebff;}#sk-container-id-20 div.sk-serial::before {content: \"\";position: absolute;border-left: 1px solid gray;box-sizing: border-box;top: 0;bottom: 0;left: 50%;z-index: 0;}#sk-container-id-20 div.sk-serial {display: flex;flex-direction: column;align-items: center;background-color: white;padding-right: 0.2em;padding-left: 0.2em;position: relative;}#sk-container-id-20 div.sk-item {position: relative;z-index: 1;}#sk-container-id-20 div.sk-parallel {display: flex;align-items: stretch;justify-content: center;background-color: white;position: relative;}#sk-container-id-20 div.sk-item::before, #sk-container-id-20 div.sk-parallel-item::before {content: \"\";position: absolute;border-left: 1px solid gray;box-sizing: border-box;top: 0;bottom: 0;left: 50%;z-index: -1;}#sk-container-id-20 div.sk-parallel-item {display: flex;flex-direction: column;z-index: 1;position: relative;background-color: white;}#sk-container-id-20 div.sk-parallel-item:first-child::after {align-self: flex-end;width: 50%;}#sk-container-id-20 div.sk-parallel-item:last-child::after {align-self: flex-start;width: 50%;}#sk-container-id-20 div.sk-parallel-item:only-child::after {width: 0;}#sk-container-id-20 div.sk-dashed-wrapped {border: 1px dashed gray;margin: 0 0.4em 0.5em 0.4em;box-sizing: border-box;padding-bottom: 0.4em;background-color: white;}#sk-container-id-20 div.sk-label label {font-family: monospace;font-weight: bold;display: inline-block;line-height: 1.2em;}#sk-container-id-20 div.sk-label-container {text-align: center;}#sk-container-id-20 div.sk-container {/* jupyter's `normalize.less` sets `[hidden] { display: none; }` but bootstrap.min.css set `[hidden] { display: none !important; }` so we also need the `!important` here to be able to override the default hidden behavior on the sphinx rendered scikit-learn.org. See: https://github.com/scikit-learn/scikit-learn/issues/21755 */display: inline-block !important;position: relative;}#sk-container-id-20 div.sk-text-repr-fallback {display: none;}</style><div id=\"sk-container-id-20\" class=\"sk-top-container\"><div class=\"sk-text-repr-fallback\"><pre>MultinomialNB()</pre><b>In a Jupyter environment, please rerun this cell to show the HTML representation or trust the notebook. <br />On GitHub, the HTML representation is unable to render, please try loading this page with nbviewer.org.</b></div><div class=\"sk-container\" hidden><div class=\"sk-item\"><div class=\"sk-estimator sk-toggleable\"><input class=\"sk-toggleable__control sk-hidden--visually\" id=\"sk-estimator-id-20\" type=\"checkbox\" checked><label for=\"sk-estimator-id-20\" class=\"sk-toggleable__label sk-toggleable__label-arrow\">MultinomialNB</label><div class=\"sk-toggleable__content\"><pre>MultinomialNB()</pre></div></div></div></div></div>"
            ]
          },
          "metadata": {},
          "execution_count": 287
        }
      ]
    },
    {
      "cell_type": "markdown",
      "source": [
        "Sprawdzam model na zbiorze testowym"
      ],
      "metadata": {
        "id": "YSwSw01tHE4p"
      }
    },
    {
      "cell_type": "code",
      "source": [
        "predictions = model.predict(x_test)\n",
        "i = 0\n",
        "for x,y in zip(predictions,y_test):\n",
        "  if x==y:\n",
        "    i+=1\n",
        "print(\"Parametry modelu:\")\n",
        "print(\"Accuracy: \",round(i/x_test.shape[0]*100,2),\"%\")\n",
        "conf_matrix = sklearn.metrics.confusion_matrix(y_test, predictions)\n",
        "print(\"Confusion Matrix:\")\n",
        "print('0:\\n True: ',conf_matrix[0][0], '\\tFalse: ', conf_matrix[1][0])\n",
        "print('1:\\n True: ',conf_matrix[1][1], '\\tFalse: ', conf_matrix[0][1])\n",
        "\n",
        "import matplotlib.pyplot as plt\n",
        "\n",
        "x = [i+1 for i in range(x_test.shape[0])]\n",
        "plt.plot(x, predictions, label='Predykcja', color='red')\n",
        "\n",
        "plt.plot(x, y_test, label='Wartosc prawdziwa', color='green')\n",
        "\n",
        "plt.title('Wykres dwóch zmiennych')\n",
        "plt.xlabel('Nr badania')\n",
        "plt.ylabel('Wartosc')\n",
        "\n",
        "plt.legend()\n",
        "\n",
        "plt.show()\n",
        "\n",
        ""
      ],
      "metadata": {
        "colab": {
          "base_uri": "https://localhost:8080/",
          "height": 593
        },
        "id": "aZWIikIiGiU3",
        "outputId": "bf03226e-81e5-4ce3-a397-51a62e02e22a"
      },
      "execution_count": 288,
      "outputs": [
        {
          "output_type": "stream",
          "name": "stdout",
          "text": [
            "Parametry modelu:\n",
            "Accuracy:  83.33 %\n",
            "Confusion Matrix:\n",
            "0:\n",
            " True:  35 \tFalse:  2\n",
            "1:\n",
            " True:  40 \tFalse:  13\n"
          ]
        },
        {
          "output_type": "display_data",
          "data": {
            "text/plain": [
              "<Figure size 640x480 with 1 Axes>"
            ],
            "image/png": "[encoded data removed]"
          },
          "metadata": {}
        }
      ]
    },
    {
      "cell_type": "markdown",
      "source": [
        "Łatwo można zauważyć, że model częściej klasyfikuje posty niedotyczące mandril do tych zawierających, niż odwrotnie. Jest to dobra rzecz bo prawdopodobieństwo tego, że interesująca nas wiadomość zostanie odrzucona przez model jest mniejsze. Lepiej aby działało to w ten sposób i przy weryfikacji wyników będzie można odrzucić niepasujące dane.\n",
        "\n",
        "Naiwny klasyfikator Bayesa poradził sobie całkiem dobrze z problemem, skuteczność przewidywań wyniosła 83%."
      ],
      "metadata": {
        "id": "lE8SNwk9WqJu"
      }
    }
  ]
}