{
  "nbformat": 4,
  "nbformat_minor": 0,
  "metadata": {
    "colab": {
      "provenance": [],
      "gpuType": "T4",
      "authorship_tag": "ABX9TyOnkLsnEC6sxZthbEOPc/Jc",
      "include_colab_link": true
    },
    "kernelspec": {
      "name": "python3",
      "display_name": "Python 3"
    },
    "language_info": {
      "name": "python"
    },
    "accelerator": "GPU"
  },
  "cells": [
    {
      "cell_type": "markdown",
      "metadata": {
        "id": "view-in-github",
        "colab_type": "text"
      },
      "source": [
        "<a href=\"https://colab.research.google.com/github/Orley74/ML_projects_python/blob/main/MargoSaper.ipynb\" target=\"_parent\"><img src=\"https://colab.research.google.com/assets/colab-badge.svg\" alt=\"Open In Colab\"/></a>"
      ]
    },
    {
      "cell_type": "markdown",
      "source": [
        "Program rozwiązuje gre logiczną w grze przeglądarkowej Margonem\n",
        "\n",
        "import tf\n"
      ],
      "metadata": {
        "id": "3wTzSuL9-s_M"
      }
    },
    {
      "cell_type": "code",
      "execution_count": null,
      "metadata": {
        "id": "i0NlSN0gQ3es"
      },
      "outputs": [],
      "source": [
        "import tensorflow as tf\n",
        "from tensorflow.keras.models import Sequential\n",
        "from tensorflow.keras.layers import Conv2D, MaxPooling2D, Dense, Flatten, Dropout"
      ]
    },
    {
      "cell_type": "markdown",
      "source": [
        "do wyswietlania tez matplotlib"
      ],
      "metadata": {
        "id": "Qe_9I41q-wjR"
      }
    },
    {
      "cell_type": "code",
      "source": [
        "import matplotlib.pyplot as plt"
      ],
      "metadata": {
        "id": "EdKCLUKpTg4p"
      },
      "execution_count": null,
      "outputs": []
    },
    {
      "cell_type": "markdown",
      "source": [
        "podpiecie karty graficznej zeby bylo szybciej\n"
      ],
      "metadata": {
        "id": "jwu1YDx1-zp4"
      }
    },
    {
      "cell_type": "code",
      "source": [
        "\n",
        "gpus = tf.config.list_physical_devices('GPU')\n",
        "for gpu in gpus:\n",
        "  tf.config.experimental.set_memory_growth(gpu,True)\n"
      ],
      "metadata": {
        "id": "ZznRCdJQRNxq"
      },
      "execution_count": null,
      "outputs": []
    },
    {
      "cell_type": "markdown",
      "source": [
        "mozliwe ze w folderze pojawi sie folder z zapisami poprzedniej wersji coś w stylu back-up ale przeszkadza on w wynikach więc go usuwam"
      ],
      "metadata": {
        "id": "vKcAlR_Z-32s"
      }
    },
    {
      "cell_type": "code",
      "source": [
        "import os\n",
        "folder_path = \"sl\"\n",
        "\n",
        "checkpoint_folder = os.path.join(folder_path, \".ipynb_checkpoints\")\n",
        "\n",
        "if os.path.exists(checkpoint_folder):\n",
        "    os.system(f\"rm -rf {checkpoint_folder}\")  # Dla systemów Unix/Linux\n",
        "    # os.system(f\"rmdir /s {checkpoint_folder}\")  # Dla systemu Windows\n",
        "    print(\".ipynb_checkpoints folder został usunięty.\")\n",
        "else:\n",
        "    print(\"Brak folderu .ipynb_checkpoints.\")"
      ],
      "metadata": {
        "colab": {
          "base_uri": "https://localhost:8080/"
        },
        "id": "eH9Vv94XVJ-v",
        "outputId": "c1ce81b7-7489-452b-e46a-9aa87d9052e5"
      },
      "execution_count": null,
      "outputs": [
        {
          "output_type": "stream",
          "name": "stdout",
          "text": [
            ".ipynb_checkpoints folder został usunięty.\n"
          ]
        }
      ]
    },
    {
      "cell_type": "markdown",
      "source": [
        "pobranie danych z folderu i stworzenie iteratora i batch (sluza do skakania po dancyh, iterator ma wszystkie a batch przechowuje po 32 elementy)"
      ],
      "metadata": {
        "id": "p7DXw2B5_EI_"
      }
    },
    {
      "cell_type": "code",
      "source": [
        "data = tf.keras.utils.image_dataset_from_directory('sl',image_size=(40, 40))\n"
      ],
      "metadata": {
        "colab": {
          "base_uri": "https://localhost:8080/"
        },
        "id": "FprM6WEgTm99",
        "outputId": "2154dde9-ea91-412b-8cc0-ce90644f794d"
      },
      "execution_count": null,
      "outputs": [
        {
          "output_type": "stream",
          "name": "stdout",
          "text": [
            "Found 250 files belonging to 5 classes.\n"
          ]
        }
      ]
    },
    {
      "cell_type": "code",
      "source": [],
      "metadata": {
        "id": "_2siWRL1V7ac"
      },
      "execution_count": null,
      "outputs": []
    },
    {
      "cell_type": "code",
      "source": [
        "data_iterator = data.as_numpy_iterator()\n",
        "batch = data_iterator.next()"
      ],
      "metadata": {
        "id": "mlZMbZRLUhq_"
      },
      "execution_count": null,
      "outputs": []
    },
    {
      "cell_type": "markdown",
      "source": [
        "wyswietlenie posiadanych grafik oraz nad nimi klasy do ktorej naleza"
      ],
      "metadata": {
        "id": "7zsJYewK_RYW"
      }
    },
    {
      "cell_type": "code",
      "source": [
        "fig, ax = plt.subplots(ncols= 4, figsize = (20,20))\n",
        "for idx, img in enumerate(batch[0][:4]):\n",
        "    ax[idx].imshow(img.astype(int))\n",
        "    ax[idx].title.set_text(batch[1][idx])"
      ],
      "metadata": {
        "colab": {
          "base_uri": "https://localhost:8080/",
          "height": 250
        },
        "id": "Irp9Uk0PTmy6",
        "outputId": "6b55ee7c-cc80-4b2f-8387-e07843acda04"
      },
      "execution_count": null,
      "outputs": [
        {
          "output_type": "display_data",
          "data": {
            "text/plain": [
              "<Figure size 2000x2000 with 4 Axes>"
            ],
            "image/png": "[encoded data removed]"
          },
          "metadata": {}
        }
      ]
    },
    {
      "cell_type": "markdown",
      "source": [
        "mapowanie danych zeby mialo wartosci od 0.0 do 1.0"
      ],
      "metadata": {
        "id": "OhjwIXB2_WxG"
      }
    },
    {
      "cell_type": "code",
      "source": [
        "\n",
        "data = data.map(lambda x, y: (x / 255, y))\n",
        "\n",
        "scaled_iterator = data.as_numpy_iterator()\n",
        "batch = scaled_iterator.next()"
      ],
      "metadata": {
        "id": "yDxG_3K-RQ-6"
      },
      "execution_count": null,
      "outputs": []
    },
    {
      "cell_type": "code",
      "source": [
        "fig, ax = plt.subplots(ncols= 4, figsize = (20,20))\n",
        "for idx, img in enumerate(batch[0][:4]):\n",
        "    ax[idx].imshow(img.astype(int))\n",
        "    ax[idx].title.set_text(batch[1][idx])"
      ],
      "metadata": {
        "colab": {
          "base_uri": "https://localhost:8080/",
          "height": 250
        },
        "id": "cNUJOrzkatz3",
        "outputId": "6e7f09bf-a1c4-441f-8b53-decc82c3964d"
      },
      "execution_count": null,
      "outputs": [
        {
          "output_type": "display_data",
          "data": {
            "text/plain": [
              "<Figure size 2000x2000 with 4 Axes>"
            ],
            "image/png": "[encoded data removed]"
          },
          "metadata": {}
        }
      ]
    },
    {
      "cell_type": "code",
      "source": [
        "len(data)"
      ],
      "metadata": {
        "colab": {
          "base_uri": "https://localhost:8080/"
        },
        "id": "_qoN8uV3SXbV",
        "outputId": "d34ae222-1be8-4cb6-cf13-4fa7053c6adc"
      },
      "execution_count": null,
      "outputs": [
        {
          "output_type": "execute_result",
          "data": {
            "text/plain": [
              "8"
            ]
          },
          "metadata": {},
          "execution_count": 6
        }
      ]
    },
    {
      "cell_type": "markdown",
      "source": [
        "podzielenie na dane treningowe, walidacyjne i testowe. Tutaj okreslam dlugosc tych danych w batch"
      ],
      "metadata": {
        "id": "IySqqFMe_mEU"
      }
    },
    {
      "cell_type": "code",
      "source": [
        "train_data = int(len(data) * .7)\n",
        "val_data = int(len(data) * .2)+1\n",
        "test_data = int(len(data) * .1)+1"
      ],
      "metadata": {
        "id": "KcFDXQPISU_H"
      },
      "execution_count": null,
      "outputs": []
    },
    {
      "cell_type": "code",
      "source": [
        "train_data, val_data, test_data"
      ],
      "metadata": {
        "colab": {
          "base_uri": "https://localhost:8080/"
        },
        "id": "YJx_87IuSbf8",
        "outputId": "a12a30cb-984b-41e4-816a-8c1c8cf6f121"
      },
      "execution_count": null,
      "outputs": [
        {
          "output_type": "execute_result",
          "data": {
            "text/plain": [
              "(5, 2, 1)"
            ]
          },
          "metadata": {},
          "execution_count": 10
        }
      ]
    },
    {
      "cell_type": "markdown",
      "source": [
        "dodanie wartosci do danych na podstawie wczesniej przydzielonych numerow batch"
      ],
      "metadata": {
        "id": "8haeld9F_rTA"
      }
    },
    {
      "cell_type": "code",
      "source": [
        "train = data.take(train_data)\n",
        "val = data.skip(train_data).take(val_data)\n",
        "test = data.skip(train_data + val_data).take(test_data)"
      ],
      "metadata": {
        "id": "a6IM0tzHSqha"
      },
      "execution_count": null,
      "outputs": []
    },
    {
      "cell_type": "markdown",
      "source": [
        "stworzenie modelu sieci neuronowej"
      ],
      "metadata": {
        "id": "WUuanBJ9_6Cz"
      }
    },
    {
      "cell_type": "code",
      "source": [
        "model = Sequential()\n",
        "\n",
        "model.add(Conv2D(16, (3, 3), 1, activation='relu', input_shape=(40, 40, 3)))\n",
        "model.add(MaxPooling2D())\n",
        "\n",
        "model.add(Conv2D(32, (3, 3), 1, activation='relu'))\n",
        "model.add(MaxPooling2D())\n",
        "\n",
        "model.add(Conv2D(16, (3, 3), 1, activation='relu'))\n",
        "model.add(MaxPooling2D())\n",
        "\n",
        "\n",
        "model.add(Conv2D(16, (3, 3), 1, activation='relu'))\n",
        "\n",
        "\n",
        "model.add(Flatten())\n",
        "\n",
        "model.add(Dense(256, activation='relu'))\n",
        "model.add(Dense(5, activation='softmax'))"
      ],
      "metadata": {
        "id": "1f8VdJu8Su3n"
      },
      "execution_count": null,
      "outputs": []
    },
    {
      "cell_type": "code",
      "source": [
        "model.summary()"
      ],
      "metadata": {
        "colab": {
          "base_uri": "https://localhost:8080/"
        },
        "id": "v2wgC9lcT8bU",
        "outputId": "10bf8881-dc21-47db-9ef6-97c5ea328754"
      },
      "execution_count": null,
      "outputs": [
        {
          "output_type": "stream",
          "name": "stdout",
          "text": [
            "Model: \"sequential_5\"\n",
            "_________________________________________________________________\n",
            " Layer (type)                Output Shape              Param #   \n",
            "=================================================================\n",
            " conv2d_16 (Conv2D)          (None, 38, 38, 16)        448       \n",
            "                                                                 \n",
            " max_pooling2d_16 (MaxPoolin  (None, 19, 19, 16)       0         \n",
            " g2D)                                                            \n",
            "                                                                 \n",
            " conv2d_17 (Conv2D)          (None, 17, 17, 32)        4640      \n",
            "                                                                 \n",
            " max_pooling2d_17 (MaxPoolin  (None, 8, 8, 32)         0         \n",
            " g2D)                                                            \n",
            "                                                                 \n",
            " conv2d_18 (Conv2D)          (None, 6, 6, 16)          4624      \n",
            "                                                                 \n",
            " max_pooling2d_18 (MaxPoolin  (None, 3, 3, 16)         0         \n",
            " g2D)                                                            \n",
            "                                                                 \n",
            " conv2d_19 (Conv2D)          (None, 1, 1, 16)          2320      \n",
            "                                                                 \n",
            " flatten_1 (Flatten)         (None, 16)                0         \n",
            "                                                                 \n",
            " dense_2 (Dense)             (None, 256)               4352      \n",
            "                                                                 \n",
            " dense_3 (Dense)             (None, 5)                 1285      \n",
            "                                                                 \n",
            "=================================================================\n",
            "Total params: 17,669\n",
            "Trainable params: 17,669\n",
            "Non-trainable params: 0\n",
            "_________________________________________________________________\n"
          ]
        }
      ]
    },
    {
      "cell_type": "markdown",
      "source": [
        "okreslenie sposobu jak siec bedzie sie uczyc"
      ],
      "metadata": {
        "id": "D8PEjS5t_8-o"
      }
    },
    {
      "cell_type": "code",
      "source": [
        "model.compile('adam', loss=tf.losses.SparseCategoricalCrossentropy(), metrics=['accuracy'])\n",
        "logdir='logs'\n",
        "tf_log = tf.keras.callbacks.TensorBoard(log_dir=logdir)"
      ],
      "metadata": {
        "id": "VZWCWV02Sx65"
      },
      "execution_count": null,
      "outputs": []
    },
    {
      "cell_type": "markdown",
      "source": [
        "uczenie sieci"
      ],
      "metadata": {
        "id": "kCLcx6J4AB2g"
      }
    },
    {
      "cell_type": "code",
      "source": [
        "hist = model.fit(train, epochs=200, validation_data = val, callbacks = [tf_log])"
      ],
      "metadata": {
        "colab": {
          "base_uri": "https://localhost:8080/"
        },
        "id": "LV5QwYi2S0Mb",
        "outputId": "5a161380-01ca-492b-e9ff-ef678d34e396"
      },
      "execution_count": null,
      "outputs": [
        {
          "output_type": "stream",
          "name": "stdout",
          "text": [
            "Epoch 1/200\n",
            "5/5 [==============================] - 0s 27ms/step - loss: 0.0166 - accuracy: 0.9937 - val_loss: 0.0241 - val_accuracy: 0.9844\n",
            "Epoch 2/200\n",
            "5/5 [==============================] - 0s 22ms/step - loss: 0.0135 - accuracy: 0.9937 - val_loss: 0.0166 - val_accuracy: 1.0000\n",
            "Epoch 3/200\n",
            "5/5 [==============================] - 0s 22ms/step - loss: 0.0390 - accuracy: 0.9875 - val_loss: 7.5311e-04 - val_accuracy: 1.0000\n",
            "Epoch 4/200\n",
            "5/5 [==============================] - 0s 26ms/step - loss: 0.0012 - accuracy: 1.0000 - val_loss: 0.0042 - val_accuracy: 1.0000\n",
            "Epoch 5/200\n",
            "5/5 [==============================] - 0s 22ms/step - loss: 0.0089 - accuracy: 1.0000 - val_loss: 0.0068 - val_accuracy: 1.0000\n",
            "Epoch 6/200\n",
            "5/5 [==============================] - 0s 27ms/step - loss: 0.0025 - accuracy: 1.0000 - val_loss: 0.0012 - val_accuracy: 1.0000\n",
            "Epoch 7/200\n",
            "5/5 [==============================] - 0s 27ms/step - loss: 0.0011 - accuracy: 1.0000 - val_loss: 0.0018 - val_accuracy: 1.0000\n",
            "Epoch 8/200\n",
            "5/5 [==============================] - 0s 23ms/step - loss: 0.0016 - accuracy: 1.0000 - val_loss: 6.4313e-04 - val_accuracy: 1.0000\n",
            "Epoch 9/200\n",
            "5/5 [==============================] - 0s 28ms/step - loss: 8.2035e-04 - accuracy: 1.0000 - val_loss: 5.8929e-04 - val_accuracy: 1.0000\n",
            "Epoch 10/200\n",
            "5/5 [==============================] - 0s 24ms/step - loss: 0.0270 - accuracy: 0.9937 - val_loss: 6.9327e-04 - val_accuracy: 1.0000\n",
            "Epoch 11/200\n",
            "5/5 [==============================] - 0s 24ms/step - loss: 0.0041 - accuracy: 1.0000 - val_loss: 8.3055e-04 - val_accuracy: 1.0000\n",
            "Epoch 12/200\n",
            "5/5 [==============================] - 0s 24ms/step - loss: 0.0133 - accuracy: 0.9937 - val_loss: 0.0158 - val_accuracy: 0.9844\n",
            "Epoch 13/200\n",
            "5/5 [==============================] - 0s 26ms/step - loss: 0.0070 - accuracy: 1.0000 - val_loss: 7.5173e-04 - val_accuracy: 1.0000\n",
            "Epoch 14/200\n",
            "5/5 [==============================] - 0s 24ms/step - loss: 0.0167 - accuracy: 0.9937 - val_loss: 4.9844e-04 - val_accuracy: 1.0000\n",
            "Epoch 15/200\n",
            "5/5 [==============================] - 0s 22ms/step - loss: 0.0018 - accuracy: 1.0000 - val_loss: 0.0307 - val_accuracy: 0.9844\n",
            "Epoch 16/200\n",
            "5/5 [==============================] - 0s 26ms/step - loss: 4.8106e-04 - accuracy: 1.0000 - val_loss: 6.1389e-04 - val_accuracy: 1.0000\n",
            "Epoch 17/200\n",
            "5/5 [==============================] - 0s 23ms/step - loss: 0.0185 - accuracy: 0.9937 - val_loss: 4.6961e-04 - val_accuracy: 1.0000\n",
            "Epoch 18/200\n",
            "5/5 [==============================] - 0s 24ms/step - loss: 0.0105 - accuracy: 0.9937 - val_loss: 0.0112 - val_accuracy: 1.0000\n",
            "Epoch 19/200\n",
            "5/5 [==============================] - 0s 48ms/step - loss: 0.0190 - accuracy: 0.9875 - val_loss: 0.0133 - val_accuracy: 0.9844\n",
            "Epoch 20/200\n",
            "5/5 [==============================] - 0s 34ms/step - loss: 0.0028 - accuracy: 1.0000 - val_loss: 4.1510e-04 - val_accuracy: 1.0000\n",
            "Epoch 21/200\n",
            "5/5 [==============================] - 0s 31ms/step - loss: 0.0287 - accuracy: 0.9937 - val_loss: 8.7662e-04 - val_accuracy: 1.0000\n",
            "Epoch 22/200\n",
            "5/5 [==============================] - 0s 34ms/step - loss: 0.0011 - accuracy: 1.0000 - val_loss: 0.0414 - val_accuracy: 0.9844\n",
            "Epoch 23/200\n",
            "5/5 [==============================] - 0s 52ms/step - loss: 7.5959e-04 - accuracy: 1.0000 - val_loss: 5.0250e-04 - val_accuracy: 1.0000\n",
            "Epoch 24/200\n",
            "5/5 [==============================] - 0s 39ms/step - loss: 0.0142 - accuracy: 0.9937 - val_loss: 0.0160 - val_accuracy: 0.9844\n",
            "Epoch 25/200\n",
            "5/5 [==============================] - 0s 33ms/step - loss: 0.0098 - accuracy: 0.9937 - val_loss: 9.0017e-04 - val_accuracy: 1.0000\n",
            "Epoch 26/200\n",
            "5/5 [==============================] - 0s 34ms/step - loss: 0.0068 - accuracy: 1.0000 - val_loss: 0.0392 - val_accuracy: 0.9844\n",
            "Epoch 27/200\n",
            "5/5 [==============================] - 0s 22ms/step - loss: 0.0060 - accuracy: 1.0000 - val_loss: 0.0015 - val_accuracy: 1.0000\n",
            "Epoch 28/200\n",
            "5/5 [==============================] - 0s 26ms/step - loss: 0.0222 - accuracy: 0.9875 - val_loss: 3.5146e-04 - val_accuracy: 1.0000\n",
            "Epoch 29/200\n",
            "5/5 [==============================] - 0s 27ms/step - loss: 8.2148e-04 - accuracy: 1.0000 - val_loss: 0.0516 - val_accuracy: 0.9844\n",
            "Epoch 30/200\n",
            "5/5 [==============================] - 0s 22ms/step - loss: 0.0237 - accuracy: 0.9937 - val_loss: 4.5934e-04 - val_accuracy: 1.0000\n",
            "Epoch 31/200\n",
            "5/5 [==============================] - 0s 29ms/step - loss: 0.0168 - accuracy: 0.9937 - val_loss: 5.4328e-04 - val_accuracy: 1.0000\n",
            "Epoch 32/200\n",
            "5/5 [==============================] - 0s 23ms/step - loss: 0.0114 - accuracy: 0.9937 - val_loss: 0.0432 - val_accuracy: 0.9688\n",
            "Epoch 33/200\n",
            "5/5 [==============================] - 0s 28ms/step - loss: 0.0122 - accuracy: 0.9937 - val_loss: 0.0159 - val_accuracy: 0.9844\n",
            "Epoch 34/200\n",
            "5/5 [==============================] - 0s 23ms/step - loss: 0.0116 - accuracy: 0.9937 - val_loss: 5.7705e-04 - val_accuracy: 1.0000\n",
            "Epoch 35/200\n",
            "5/5 [==============================] - 0s 23ms/step - loss: 0.0175 - accuracy: 0.9937 - val_loss: 0.0027 - val_accuracy: 1.0000\n",
            "Epoch 36/200\n",
            "5/5 [==============================] - 0s 27ms/step - loss: 0.0117 - accuracy: 0.9937 - val_loss: 0.0021 - val_accuracy: 1.0000\n",
            "Epoch 37/200\n",
            "5/5 [==============================] - 0s 23ms/step - loss: 0.0152 - accuracy: 0.9937 - val_loss: 4.8470e-04 - val_accuracy: 1.0000\n",
            "Epoch 38/200\n",
            "5/5 [==============================] - 0s 22ms/step - loss: 0.0014 - accuracy: 1.0000 - val_loss: 3.3678e-04 - val_accuracy: 1.0000\n",
            "Epoch 39/200\n",
            "5/5 [==============================] - 0s 27ms/step - loss: 0.0054 - accuracy: 0.9937 - val_loss: 0.0170 - val_accuracy: 0.9844\n",
            "Epoch 40/200\n",
            "5/5 [==============================] - 0s 23ms/step - loss: 0.0221 - accuracy: 0.9875 - val_loss: 0.0086 - val_accuracy: 1.0000\n",
            "Epoch 41/200\n",
            "5/5 [==============================] - 0s 24ms/step - loss: 0.0093 - accuracy: 0.9937 - val_loss: 0.0431 - val_accuracy: 0.9844\n",
            "Epoch 42/200\n",
            "5/5 [==============================] - 0s 26ms/step - loss: 0.0239 - accuracy: 0.9937 - val_loss: 0.0015 - val_accuracy: 1.0000\n",
            "Epoch 43/200\n",
            "5/5 [==============================] - 0s 23ms/step - loss: 0.0016 - accuracy: 1.0000 - val_loss: 3.8412e-04 - val_accuracy: 1.0000\n",
            "Epoch 44/200\n",
            "5/5 [==============================] - 0s 22ms/step - loss: 0.0126 - accuracy: 0.9937 - val_loss: 4.3264e-04 - val_accuracy: 1.0000\n",
            "Epoch 45/200\n",
            "5/5 [==============================] - 0s 26ms/step - loss: 0.0058 - accuracy: 1.0000 - val_loss: 0.0186 - val_accuracy: 0.9844\n",
            "Epoch 46/200\n",
            "5/5 [==============================] - 0s 22ms/step - loss: 0.0118 - accuracy: 0.9875 - val_loss: 0.0121 - val_accuracy: 1.0000\n",
            "Epoch 47/200\n",
            "5/5 [==============================] - 0s 28ms/step - loss: 0.0120 - accuracy: 0.9875 - val_loss: 0.0146 - val_accuracy: 1.0000\n",
            "Epoch 48/200\n",
            "5/5 [==============================] - 0s 30ms/step - loss: 0.0057 - accuracy: 1.0000 - val_loss: 0.0349 - val_accuracy: 0.9844\n",
            "Epoch 49/200\n",
            "5/5 [==============================] - 0s 27ms/step - loss: 0.0147 - accuracy: 0.9937 - val_loss: 5.8276e-04 - val_accuracy: 1.0000\n",
            "Epoch 50/200\n",
            "5/5 [==============================] - 0s 24ms/step - loss: 0.0141 - accuracy: 0.9937 - val_loss: 0.0088 - val_accuracy: 1.0000\n",
            "Epoch 51/200\n",
            "5/5 [==============================] - 0s 26ms/step - loss: 0.0043 - accuracy: 1.0000 - val_loss: 7.5214e-04 - val_accuracy: 1.0000\n",
            "Epoch 52/200\n",
            "5/5 [==============================] - 0s 27ms/step - loss: 0.0016 - accuracy: 1.0000 - val_loss: 0.0016 - val_accuracy: 1.0000\n",
            "Epoch 53/200\n",
            "5/5 [==============================] - 0s 23ms/step - loss: 0.0010 - accuracy: 1.0000 - val_loss: 0.0549 - val_accuracy: 0.9844\n",
            "Epoch 54/200\n",
            "5/5 [==============================] - 0s 28ms/step - loss: 7.2725e-04 - accuracy: 1.0000 - val_loss: 0.0615 - val_accuracy: 0.9844\n",
            "Epoch 55/200\n",
            "5/5 [==============================] - 0s 27ms/step - loss: 9.1234e-04 - accuracy: 1.0000 - val_loss: 0.0010 - val_accuracy: 1.0000\n",
            "Epoch 56/200\n",
            "5/5 [==============================] - 0s 27ms/step - loss: 0.0255 - accuracy: 0.9937 - val_loss: 3.2798e-04 - val_accuracy: 1.0000\n",
            "Epoch 57/200\n",
            "5/5 [==============================] - 0s 26ms/step - loss: 0.0056 - accuracy: 1.0000 - val_loss: 0.0065 - val_accuracy: 1.0000\n",
            "Epoch 58/200\n",
            "5/5 [==============================] - 0s 23ms/step - loss: 0.0024 - accuracy: 1.0000 - val_loss: 4.9661e-04 - val_accuracy: 1.0000\n",
            "Epoch 59/200\n",
            "5/5 [==============================] - 0s 22ms/step - loss: 0.0183 - accuracy: 0.9937 - val_loss: 0.0018 - val_accuracy: 1.0000\n",
            "Epoch 60/200\n",
            "5/5 [==============================] - 0s 26ms/step - loss: 0.0118 - accuracy: 0.9937 - val_loss: 7.2201e-04 - val_accuracy: 1.0000\n",
            "Epoch 61/200\n",
            "5/5 [==============================] - 0s 27ms/step - loss: 0.0095 - accuracy: 0.9937 - val_loss: 0.0074 - val_accuracy: 1.0000\n",
            "Epoch 62/200\n",
            "5/5 [==============================] - 0s 22ms/step - loss: 0.0061 - accuracy: 1.0000 - val_loss: 0.0072 - val_accuracy: 1.0000\n",
            "Epoch 63/200\n",
            "5/5 [==============================] - 0s 25ms/step - loss: 0.0133 - accuracy: 0.9937 - val_loss: 6.6444e-04 - val_accuracy: 1.0000\n",
            "Epoch 64/200\n",
            "5/5 [==============================] - 0s 24ms/step - loss: 0.0126 - accuracy: 0.9937 - val_loss: 3.7319e-04 - val_accuracy: 1.0000\n",
            "Epoch 65/200\n",
            "5/5 [==============================] - 0s 23ms/step - loss: 0.0012 - accuracy: 1.0000 - val_loss: 0.0540 - val_accuracy: 0.9844\n",
            "Epoch 66/200\n",
            "5/5 [==============================] - 0s 23ms/step - loss: 0.0244 - accuracy: 0.9937 - val_loss: 3.6990e-04 - val_accuracy: 1.0000\n",
            "Epoch 67/200\n",
            "5/5 [==============================] - 0s 22ms/step - loss: 0.0243 - accuracy: 0.9937 - val_loss: 0.0074 - val_accuracy: 1.0000\n",
            "Epoch 68/200\n",
            "5/5 [==============================] - 0s 23ms/step - loss: 0.0131 - accuracy: 0.9937 - val_loss: 0.0235 - val_accuracy: 0.9844\n",
            "Epoch 69/200\n",
            "5/5 [==============================] - 0s 36ms/step - loss: 0.0098 - accuracy: 0.9937 - val_loss: 3.1813e-04 - val_accuracy: 1.0000\n",
            "Epoch 70/200\n",
            "5/5 [==============================] - 0s 36ms/step - loss: 0.0043 - accuracy: 1.0000 - val_loss: 0.0045 - val_accuracy: 1.0000\n",
            "Epoch 71/200\n",
            "5/5 [==============================] - 0s 50ms/step - loss: 0.0026 - accuracy: 1.0000 - val_loss: 3.7726e-04 - val_accuracy: 1.0000\n",
            "Epoch 72/200\n",
            "5/5 [==============================] - 0s 52ms/step - loss: 0.0166 - accuracy: 0.9937 - val_loss: 7.1059e-04 - val_accuracy: 1.0000\n",
            "Epoch 73/200\n",
            "5/5 [==============================] - 0s 51ms/step - loss: 0.0017 - accuracy: 1.0000 - val_loss: 8.9441e-04 - val_accuracy: 1.0000\n",
            "Epoch 74/200\n",
            "5/5 [==============================] - 0s 51ms/step - loss: 0.0042 - accuracy: 1.0000 - val_loss: 6.6368e-04 - val_accuracy: 1.0000\n",
            "Epoch 75/200\n",
            "5/5 [==============================] - 0s 52ms/step - loss: 0.0176 - accuracy: 0.9937 - val_loss: 0.0026 - val_accuracy: 1.0000\n",
            "Epoch 76/200\n",
            "5/5 [==============================] - 0s 23ms/step - loss: 0.0145 - accuracy: 0.9937 - val_loss: 4.3664e-04 - val_accuracy: 1.0000\n",
            "Epoch 77/200\n",
            "5/5 [==============================] - 0s 21ms/step - loss: 0.0155 - accuracy: 0.9875 - val_loss: 0.0291 - val_accuracy: 0.9688\n",
            "Epoch 78/200\n",
            "5/5 [==============================] - 0s 25ms/step - loss: 0.0143 - accuracy: 0.9937 - val_loss: 0.0311 - val_accuracy: 0.9844\n",
            "Epoch 79/200\n",
            "5/5 [==============================] - 0s 23ms/step - loss: 0.0149 - accuracy: 0.9937 - val_loss: 0.0044 - val_accuracy: 1.0000\n",
            "Epoch 80/200\n",
            "5/5 [==============================] - 0s 26ms/step - loss: 0.0123 - accuracy: 0.9937 - val_loss: 0.0129 - val_accuracy: 1.0000\n",
            "Epoch 81/200\n",
            "5/5 [==============================] - 0s 23ms/step - loss: 0.0110 - accuracy: 0.9937 - val_loss: 0.0239 - val_accuracy: 0.9844\n",
            "Epoch 82/200\n",
            "5/5 [==============================] - 0s 27ms/step - loss: 0.0076 - accuracy: 1.0000 - val_loss: 0.0187 - val_accuracy: 0.9844\n",
            "Epoch 83/200\n",
            "5/5 [==============================] - 0s 27ms/step - loss: 0.0134 - accuracy: 0.9937 - val_loss: 0.0030 - val_accuracy: 1.0000\n",
            "Epoch 84/200\n",
            "5/5 [==============================] - 0s 24ms/step - loss: 0.0180 - accuracy: 0.9875 - val_loss: 0.0014 - val_accuracy: 1.0000\n",
            "Epoch 85/200\n",
            "5/5 [==============================] - 0s 23ms/step - loss: 0.0073 - accuracy: 0.9937 - val_loss: 0.0012 - val_accuracy: 1.0000\n",
            "Epoch 86/200\n",
            "5/5 [==============================] - 0s 23ms/step - loss: 0.0117 - accuracy: 0.9875 - val_loss: 0.0224 - val_accuracy: 0.9844\n",
            "Epoch 87/200\n",
            "5/5 [==============================] - 0s 26ms/step - loss: 0.0128 - accuracy: 0.9875 - val_loss: 4.6431e-04 - val_accuracy: 1.0000\n",
            "Epoch 88/200\n",
            "5/5 [==============================] - 0s 23ms/step - loss: 0.0189 - accuracy: 0.9937 - val_loss: 3.5988e-04 - val_accuracy: 1.0000\n",
            "Epoch 89/200\n",
            "5/5 [==============================] - 0s 27ms/step - loss: 0.0173 - accuracy: 0.9937 - val_loss: 0.0057 - val_accuracy: 1.0000\n",
            "Epoch 90/200\n",
            "5/5 [==============================] - 0s 27ms/step - loss: 0.0054 - accuracy: 1.0000 - val_loss: 3.5643e-04 - val_accuracy: 1.0000\n",
            "Epoch 91/200\n",
            "5/5 [==============================] - 0s 22ms/step - loss: 0.0149 - accuracy: 0.9937 - val_loss: 0.0039 - val_accuracy: 1.0000\n",
            "Epoch 92/200\n",
            "5/5 [==============================] - 0s 26ms/step - loss: 0.0090 - accuracy: 0.9937 - val_loss: 0.0297 - val_accuracy: 0.9688\n",
            "Epoch 93/200\n",
            "5/5 [==============================] - 0s 21ms/step - loss: 0.0119 - accuracy: 0.9937 - val_loss: 0.0013 - val_accuracy: 1.0000\n",
            "Epoch 94/200\n",
            "5/5 [==============================] - 0s 22ms/step - loss: 0.0196 - accuracy: 0.9812 - val_loss: 4.2284e-04 - val_accuracy: 1.0000\n",
            "Epoch 95/200\n",
            "5/5 [==============================] - 0s 27ms/step - loss: 0.0154 - accuracy: 0.9937 - val_loss: 0.0315 - val_accuracy: 0.9844\n",
            "Epoch 96/200\n",
            "5/5 [==============================] - 0s 22ms/step - loss: 4.6632e-04 - accuracy: 1.0000 - val_loss: 0.0317 - val_accuracy: 0.9844\n",
            "Epoch 97/200\n",
            "5/5 [==============================] - 0s 23ms/step - loss: 0.0022 - accuracy: 1.0000 - val_loss: 0.0020 - val_accuracy: 1.0000\n",
            "Epoch 98/200\n",
            "5/5 [==============================] - 0s 26ms/step - loss: 0.0172 - accuracy: 0.9937 - val_loss: 3.3875e-04 - val_accuracy: 1.0000\n",
            "Epoch 99/200\n",
            "5/5 [==============================] - 0s 25ms/step - loss: 0.0127 - accuracy: 0.9937 - val_loss: 0.0177 - val_accuracy: 0.9844\n",
            "Epoch 100/200\n",
            "5/5 [==============================] - 0s 24ms/step - loss: 0.0031 - accuracy: 1.0000 - val_loss: 5.6954e-04 - val_accuracy: 1.0000\n",
            "Epoch 101/200\n",
            "5/5 [==============================] - 0s 29ms/step - loss: 0.0021 - accuracy: 1.0000 - val_loss: 0.0025 - val_accuracy: 1.0000\n",
            "Epoch 102/200\n",
            "5/5 [==============================] - 0s 22ms/step - loss: 0.0157 - accuracy: 0.9937 - val_loss: 0.0225 - val_accuracy: 0.9844\n",
            "Epoch 103/200\n",
            "5/5 [==============================] - 0s 24ms/step - loss: 0.0099 - accuracy: 0.9937 - val_loss: 0.0245 - val_accuracy: 0.9844\n",
            "Epoch 104/200\n",
            "5/5 [==============================] - 0s 23ms/step - loss: 0.0172 - accuracy: 0.9875 - val_loss: 0.0015 - val_accuracy: 1.0000\n",
            "Epoch 105/200\n",
            "5/5 [==============================] - 0s 24ms/step - loss: 0.0120 - accuracy: 0.9937 - val_loss: 0.0301 - val_accuracy: 0.9844\n",
            "Epoch 106/200\n",
            "5/5 [==============================] - 0s 21ms/step - loss: 0.0152 - accuracy: 0.9937 - val_loss: 0.0245 - val_accuracy: 0.9844\n",
            "Epoch 107/200\n",
            "5/5 [==============================] - 0s 23ms/step - loss: 0.0073 - accuracy: 0.9937 - val_loss: 0.0089 - val_accuracy: 1.0000\n",
            "Epoch 108/200\n",
            "5/5 [==============================] - 0s 22ms/step - loss: 0.0090 - accuracy: 0.9937 - val_loss: 0.0179 - val_accuracy: 0.9844\n",
            "Epoch 109/200\n",
            "5/5 [==============================] - 0s 28ms/step - loss: 0.0115 - accuracy: 0.9937 - val_loss: 0.0021 - val_accuracy: 1.0000\n",
            "Epoch 110/200\n",
            "5/5 [==============================] - 0s 28ms/step - loss: 0.0157 - accuracy: 0.9875 - val_loss: 0.0209 - val_accuracy: 0.9844\n",
            "Epoch 111/200\n",
            "5/5 [==============================] - 0s 27ms/step - loss: 0.0144 - accuracy: 0.9937 - val_loss: 8.0411e-04 - val_accuracy: 1.0000\n",
            "Epoch 112/200\n",
            "5/5 [==============================] - 0s 27ms/step - loss: 0.0098 - accuracy: 0.9937 - val_loss: 0.0112 - val_accuracy: 1.0000\n",
            "Epoch 113/200\n",
            "5/5 [==============================] - 0s 23ms/step - loss: 0.0094 - accuracy: 1.0000 - val_loss: 0.0175 - val_accuracy: 0.9844\n",
            "Epoch 114/200\n",
            "5/5 [==============================] - 0s 24ms/step - loss: 0.0156 - accuracy: 0.9875 - val_loss: 0.0208 - val_accuracy: 0.9844\n",
            "Epoch 115/200\n",
            "5/5 [==============================] - 0s 22ms/step - loss: 0.0143 - accuracy: 0.9937 - val_loss: 0.0294 - val_accuracy: 0.9844\n",
            "Epoch 116/200\n",
            "5/5 [==============================] - 0s 22ms/step - loss: 0.0024 - accuracy: 1.0000 - val_loss: 4.3007e-04 - val_accuracy: 1.0000\n",
            "Epoch 117/200\n",
            "5/5 [==============================] - 0s 22ms/step - loss: 0.0172 - accuracy: 0.9937 - val_loss: 0.0063 - val_accuracy: 1.0000\n",
            "Epoch 118/200\n",
            "5/5 [==============================] - 0s 24ms/step - loss: 0.0029 - accuracy: 1.0000 - val_loss: 0.0277 - val_accuracy: 0.9844\n",
            "Epoch 119/200\n",
            "5/5 [==============================] - 0s 27ms/step - loss: 0.0107 - accuracy: 0.9937 - val_loss: 7.3901e-04 - val_accuracy: 1.0000\n",
            "Epoch 120/200\n",
            "5/5 [==============================] - 0s 22ms/step - loss: 0.0136 - accuracy: 0.9937 - val_loss: 0.0157 - val_accuracy: 0.9844\n",
            "Epoch 121/200\n",
            "5/5 [==============================] - 0s 24ms/step - loss: 0.0122 - accuracy: 0.9875 - val_loss: 0.0180 - val_accuracy: 0.9844\n",
            "Epoch 122/200\n",
            "5/5 [==============================] - 0s 28ms/step - loss: 0.0149 - accuracy: 0.9937 - val_loss: 0.0293 - val_accuracy: 0.9844\n",
            "Epoch 123/200\n",
            "5/5 [==============================] - 0s 22ms/step - loss: 0.0027 - accuracy: 1.0000 - val_loss: 0.0498 - val_accuracy: 0.9844\n",
            "Epoch 124/200\n",
            "5/5 [==============================] - 0s 25ms/step - loss: 0.0208 - accuracy: 0.9937 - val_loss: 3.3189e-04 - val_accuracy: 1.0000\n",
            "Epoch 125/200\n",
            "5/5 [==============================] - 0s 28ms/step - loss: 0.0014 - accuracy: 1.0000 - val_loss: 5.1594e-04 - val_accuracy: 1.0000\n",
            "Epoch 126/200\n",
            "5/5 [==============================] - 0s 53ms/step - loss: 0.0170 - accuracy: 0.9937 - val_loss: 0.0075 - val_accuracy: 1.0000\n",
            "Epoch 127/200\n",
            "5/5 [==============================] - 0s 33ms/step - loss: 0.0049 - accuracy: 1.0000 - val_loss: 0.0088 - val_accuracy: 1.0000\n",
            "Epoch 128/200\n",
            "5/5 [==============================] - 0s 51ms/step - loss: 0.0035 - accuracy: 1.0000 - val_loss: 3.1111e-04 - val_accuracy: 1.0000\n",
            "Epoch 129/200\n",
            "5/5 [==============================] - 0s 30ms/step - loss: 0.0163 - accuracy: 0.9937 - val_loss: 0.0045 - val_accuracy: 1.0000\n",
            "Epoch 130/200\n",
            "5/5 [==============================] - 0s 51ms/step - loss: 0.0143 - accuracy: 0.9937 - val_loss: 0.0062 - val_accuracy: 1.0000\n",
            "Epoch 131/200\n",
            "5/5 [==============================] - 0s 52ms/step - loss: 0.0190 - accuracy: 0.9812 - val_loss: 0.0109 - val_accuracy: 1.0000\n",
            "Epoch 132/200\n",
            "5/5 [==============================] - 0s 53ms/step - loss: 0.0026 - accuracy: 1.0000 - val_loss: 0.0095 - val_accuracy: 1.0000\n",
            "Epoch 133/200\n",
            "5/5 [==============================] - 0s 26ms/step - loss: 0.0024 - accuracy: 1.0000 - val_loss: 0.0016 - val_accuracy: 1.0000\n",
            "Epoch 134/200\n",
            "5/5 [==============================] - 0s 22ms/step - loss: 0.0189 - accuracy: 0.9937 - val_loss: 3.0755e-04 - val_accuracy: 1.0000\n",
            "Epoch 135/200\n",
            "5/5 [==============================] - 0s 25ms/step - loss: 0.0128 - accuracy: 0.9937 - val_loss: 0.0234 - val_accuracy: 0.9844\n",
            "Epoch 136/200\n",
            "5/5 [==============================] - 0s 24ms/step - loss: 0.0088 - accuracy: 0.9937 - val_loss: 3.2227e-04 - val_accuracy: 1.0000\n",
            "Epoch 137/200\n",
            "5/5 [==============================] - 0s 24ms/step - loss: 0.0061 - accuracy: 1.0000 - val_loss: 0.0016 - val_accuracy: 1.0000\n",
            "Epoch 138/200\n",
            "5/5 [==============================] - 0s 27ms/step - loss: 7.7991e-04 - accuracy: 1.0000 - val_loss: 9.3834e-04 - val_accuracy: 1.0000\n",
            "Epoch 139/200\n",
            "5/5 [==============================] - 0s 24ms/step - loss: 0.0320 - accuracy: 0.9937 - val_loss: 7.2496e-04 - val_accuracy: 1.0000\n",
            "Epoch 140/200\n",
            "5/5 [==============================] - 0s 27ms/step - loss: 6.5883e-04 - accuracy: 1.0000 - val_loss: 9.2016e-04 - val_accuracy: 1.0000\n",
            "Epoch 141/200\n",
            "5/5 [==============================] - 0s 29ms/step - loss: 0.0123 - accuracy: 0.9937 - val_loss: 0.0134 - val_accuracy: 0.9844\n",
            "Epoch 142/200\n",
            "5/5 [==============================] - 0s 25ms/step - loss: 0.0142 - accuracy: 0.9937 - val_loss: 0.0017 - val_accuracy: 1.0000\n",
            "Epoch 143/200\n",
            "5/5 [==============================] - 0s 23ms/step - loss: 0.0039 - accuracy: 1.0000 - val_loss: 0.0012 - val_accuracy: 1.0000\n",
            "Epoch 144/200\n",
            "5/5 [==============================] - 0s 24ms/step - loss: 8.4731e-04 - accuracy: 1.0000 - val_loss: 0.0042 - val_accuracy: 1.0000\n",
            "Epoch 145/200\n",
            "5/5 [==============================] - 0s 23ms/step - loss: 0.0030 - accuracy: 1.0000 - val_loss: 0.0036 - val_accuracy: 1.0000\n",
            "Epoch 146/200\n",
            "5/5 [==============================] - 0s 22ms/step - loss: 0.0192 - accuracy: 0.9937 - val_loss: 3.6316e-04 - val_accuracy: 1.0000\n",
            "Epoch 147/200\n",
            "5/5 [==============================] - 0s 23ms/step - loss: 0.0113 - accuracy: 0.9937 - val_loss: 0.0230 - val_accuracy: 0.9844\n",
            "Epoch 148/200\n",
            "5/5 [==============================] - 0s 21ms/step - loss: 0.0221 - accuracy: 0.9812 - val_loss: 0.0227 - val_accuracy: 0.9844\n",
            "Epoch 149/200\n",
            "5/5 [==============================] - 0s 24ms/step - loss: 0.0046 - accuracy: 1.0000 - val_loss: 2.6192e-04 - val_accuracy: 1.0000\n",
            "Epoch 150/200\n",
            "5/5 [==============================] - 0s 26ms/step - loss: 0.0025 - accuracy: 1.0000 - val_loss: 0.0334 - val_accuracy: 0.9844\n",
            "Epoch 151/200\n",
            "5/5 [==============================] - 0s 23ms/step - loss: 9.0548e-04 - accuracy: 1.0000 - val_loss: 5.9833e-04 - val_accuracy: 1.0000\n",
            "Epoch 152/200\n",
            "5/5 [==============================] - 0s 23ms/step - loss: 0.0205 - accuracy: 0.9937 - val_loss: 0.0019 - val_accuracy: 1.0000\n",
            "Epoch 153/200\n",
            "5/5 [==============================] - 0s 22ms/step - loss: 0.0132 - accuracy: 0.9937 - val_loss: 0.0026 - val_accuracy: 1.0000\n",
            "Epoch 154/200\n",
            "5/5 [==============================] - 0s 23ms/step - loss: 0.0286 - accuracy: 0.9875 - val_loss: 0.0148 - val_accuracy: 0.9844\n",
            "Epoch 155/200\n",
            "5/5 [==============================] - 0s 21ms/step - loss: 0.0186 - accuracy: 0.9937 - val_loss: 6.7358e-04 - val_accuracy: 1.0000\n",
            "Epoch 156/200\n",
            "5/5 [==============================] - 0s 23ms/step - loss: 0.0011 - accuracy: 1.0000 - val_loss: 8.5611e-04 - val_accuracy: 1.0000\n",
            "Epoch 157/200\n",
            "5/5 [==============================] - 0s 27ms/step - loss: 0.0192 - accuracy: 0.9937 - val_loss: 0.0074 - val_accuracy: 1.0000\n",
            "Epoch 158/200\n",
            "5/5 [==============================] - 0s 27ms/step - loss: 0.0112 - accuracy: 0.9937 - val_loss: 0.0243 - val_accuracy: 0.9688\n",
            "Epoch 159/200\n",
            "5/5 [==============================] - 0s 23ms/step - loss: 0.0152 - accuracy: 0.9875 - val_loss: 0.0070 - val_accuracy: 1.0000\n",
            "Epoch 160/200\n",
            "5/5 [==============================] - 0s 27ms/step - loss: 0.0161 - accuracy: 0.9937 - val_loss: 0.0037 - val_accuracy: 1.0000\n",
            "Epoch 161/200\n",
            "5/5 [==============================] - 0s 26ms/step - loss: 0.0040 - accuracy: 1.0000 - val_loss: 0.0049 - val_accuracy: 1.0000\n",
            "Epoch 162/200\n",
            "5/5 [==============================] - 0s 25ms/step - loss: 0.0035 - accuracy: 1.0000 - val_loss: 7.0555e-04 - val_accuracy: 1.0000\n",
            "Epoch 163/200\n",
            "5/5 [==============================] - 0s 22ms/step - loss: 0.0184 - accuracy: 0.9937 - val_loss: 0.0285 - val_accuracy: 0.9844\n",
            "Epoch 164/200\n",
            "5/5 [==============================] - 0s 23ms/step - loss: 0.0145 - accuracy: 0.9937 - val_loss: 0.0114 - val_accuracy: 0.9844\n",
            "Epoch 165/200\n",
            "5/5 [==============================] - 0s 27ms/step - loss: 0.0163 - accuracy: 0.9875 - val_loss: 0.0094 - val_accuracy: 1.0000\n",
            "Epoch 166/200\n",
            "5/5 [==============================] - 0s 27ms/step - loss: 0.0124 - accuracy: 0.9937 - val_loss: 7.3319e-04 - val_accuracy: 1.0000\n",
            "Epoch 167/200\n",
            "5/5 [==============================] - 0s 22ms/step - loss: 0.0128 - accuracy: 0.9937 - val_loss: 4.2782e-04 - val_accuracy: 1.0000\n",
            "Epoch 168/200\n",
            "5/5 [==============================] - 0s 28ms/step - loss: 0.0024 - accuracy: 1.0000 - val_loss: 0.0380 - val_accuracy: 0.9844\n",
            "Epoch 169/200\n",
            "5/5 [==============================] - 0s 27ms/step - loss: 0.0167 - accuracy: 0.9937 - val_loss: 0.0038 - val_accuracy: 1.0000\n",
            "Epoch 170/200\n",
            "5/5 [==============================] - 0s 26ms/step - loss: 0.0124 - accuracy: 0.9937 - val_loss: 0.0243 - val_accuracy: 0.9844\n",
            "Epoch 171/200\n",
            "5/5 [==============================] - 0s 23ms/step - loss: 0.0058 - accuracy: 0.9937 - val_loss: 0.0103 - val_accuracy: 1.0000\n",
            "Epoch 172/200\n",
            "5/5 [==============================] - 0s 23ms/step - loss: 0.0167 - accuracy: 0.9875 - val_loss: 0.0220 - val_accuracy: 0.9844\n",
            "Epoch 173/200\n",
            "5/5 [==============================] - 0s 26ms/step - loss: 0.0029 - accuracy: 1.0000 - val_loss: 4.6032e-04 - val_accuracy: 1.0000\n",
            "Epoch 174/200\n",
            "5/5 [==============================] - 0s 23ms/step - loss: 0.0013 - accuracy: 1.0000 - val_loss: 0.0647 - val_accuracy: 0.9844\n",
            "Epoch 175/200\n",
            "5/5 [==============================] - 0s 26ms/step - loss: 0.0314 - accuracy: 0.9937 - val_loss: 8.8447e-04 - val_accuracy: 1.0000\n",
            "Epoch 176/200\n",
            "5/5 [==============================] - 0s 26ms/step - loss: 0.0168 - accuracy: 0.9937 - val_loss: 0.0115 - val_accuracy: 1.0000\n",
            "Epoch 177/200\n",
            "5/5 [==============================] - 0s 25ms/step - loss: 0.0084 - accuracy: 1.0000 - val_loss: 0.0070 - val_accuracy: 1.0000\n",
            "Epoch 178/200\n",
            "5/5 [==============================] - 0s 26ms/step - loss: 0.0178 - accuracy: 0.9937 - val_loss: 0.0137 - val_accuracy: 0.9844\n",
            "Epoch 179/200\n",
            "5/5 [==============================] - 0s 52ms/step - loss: 0.0129 - accuracy: 0.9937 - val_loss: 0.0018 - val_accuracy: 1.0000\n",
            "Epoch 180/200\n",
            "5/5 [==============================] - 0s 33ms/step - loss: 0.0142 - accuracy: 0.9937 - val_loss: 0.0057 - val_accuracy: 1.0000\n",
            "Epoch 181/200\n",
            "5/5 [==============================] - 0s 33ms/step - loss: 0.0129 - accuracy: 0.9937 - val_loss: 0.0258 - val_accuracy: 0.9688\n",
            "Epoch 182/200\n",
            "5/5 [==============================] - 0s 29ms/step - loss: 0.0112 - accuracy: 0.9875 - val_loss: 0.0111 - val_accuracy: 1.0000\n",
            "Epoch 183/200\n",
            "5/5 [==============================] - 0s 56ms/step - loss: 0.0052 - accuracy: 1.0000 - val_loss: 0.0218 - val_accuracy: 0.9844\n",
            "Epoch 184/200\n",
            "5/5 [==============================] - 0s 34ms/step - loss: 0.0094 - accuracy: 0.9937 - val_loss: 0.0016 - val_accuracy: 1.0000\n",
            "Epoch 185/200\n",
            "5/5 [==============================] - 0s 51ms/step - loss: 0.0130 - accuracy: 0.9937 - val_loss: 0.0233 - val_accuracy: 0.9844\n",
            "Epoch 186/200\n",
            "5/5 [==============================] - 0s 50ms/step - loss: 0.0148 - accuracy: 0.9937 - val_loss: 1.9376e-04 - val_accuracy: 1.0000\n",
            "Epoch 187/200\n",
            "5/5 [==============================] - 0s 24ms/step - loss: 0.0107 - accuracy: 0.9937 - val_loss: 2.2263e-04 - val_accuracy: 1.0000\n",
            "Epoch 188/200\n",
            "5/5 [==============================] - 0s 24ms/step - loss: 0.0086 - accuracy: 1.0000 - val_loss: 5.2894e-04 - val_accuracy: 1.0000\n",
            "Epoch 189/200\n",
            "5/5 [==============================] - 0s 23ms/step - loss: 0.0145 - accuracy: 0.9937 - val_loss: 0.0032 - val_accuracy: 1.0000\n",
            "Epoch 190/200\n",
            "5/5 [==============================] - 0s 29ms/step - loss: 0.0135 - accuracy: 0.9937 - val_loss: 7.6847e-04 - val_accuracy: 1.0000\n",
            "Epoch 191/200\n",
            "5/5 [==============================] - 0s 27ms/step - loss: 0.0059 - accuracy: 0.9937 - val_loss: 0.0084 - val_accuracy: 1.0000\n",
            "Epoch 192/200\n",
            "5/5 [==============================] - 0s 25ms/step - loss: 0.0120 - accuracy: 0.9937 - val_loss: 0.0244 - val_accuracy: 0.9844\n",
            "Epoch 193/200\n",
            "5/5 [==============================] - 0s 21ms/step - loss: 0.0130 - accuracy: 0.9937 - val_loss: 9.9471e-04 - val_accuracy: 1.0000\n",
            "Epoch 194/200\n",
            "5/5 [==============================] - 0s 27ms/step - loss: 0.0055 - accuracy: 1.0000 - val_loss: 0.0294 - val_accuracy: 0.9844\n",
            "Epoch 195/200\n",
            "5/5 [==============================] - 0s 22ms/step - loss: 0.0146 - accuracy: 0.9937 - val_loss: 1.8545e-04 - val_accuracy: 1.0000\n",
            "Epoch 196/200\n",
            "5/5 [==============================] - 0s 23ms/step - loss: 0.0088 - accuracy: 0.9937 - val_loss: 0.0217 - val_accuracy: 0.9844\n",
            "Epoch 197/200\n",
            "5/5 [==============================] - 0s 26ms/step - loss: 0.0117 - accuracy: 0.9937 - val_loss: 0.0201 - val_accuracy: 0.9844\n",
            "Epoch 198/200\n",
            "5/5 [==============================] - 0s 27ms/step - loss: 0.0173 - accuracy: 0.9875 - val_loss: 0.0112 - val_accuracy: 1.0000\n",
            "Epoch 199/200\n",
            "5/5 [==============================] - 0s 28ms/step - loss: 0.0067 - accuracy: 0.9937 - val_loss: 0.0051 - val_accuracy: 1.0000\n",
            "Epoch 200/200\n",
            "5/5 [==============================] - 0s 21ms/step - loss: 0.0146 - accuracy: 0.9937 - val_loss: 2.8054e-04 - val_accuracy: 1.0000\n"
          ]
        }
      ]
    },
    {
      "cell_type": "markdown",
      "source": [
        "pokazanie wynikow uczenia (loss i accuracy) na wykresie"
      ],
      "metadata": {
        "id": "xN6TlwrHAD3B"
      }
    },
    {
      "cell_type": "code",
      "source": [
        "fig, ax = plt.subplots(2,1)\n",
        "ax[0].plot(hist.history['loss'],c='r',label='loss')\n",
        "ax[0].plot(hist.history['accuracy'],c='g',label='accuracy')\n",
        "ax[0].title.set_text('train')\n",
        "\n",
        "ax[1].plot(hist.history['val_loss'],c='r',label='loss')\n",
        "ax[1].plot(hist.history['val_accuracy'],c='g',label='accuracy')\n",
        "ax[1].title.set_text('val')\n",
        "\n",
        "fig.legend(loc='upper left')"
      ],
      "metadata": {
        "colab": {
          "base_uri": "https://localhost:8080/",
          "height": 235
        },
        "id": "B8LC8Dooa89D",
        "outputId": "e53e60c9-7268-422b-ad0b-8817811a0845"
      },
      "execution_count": null,
      "outputs": [
        {
          "output_type": "error",
          "ename": "NameError",
          "evalue": "ignored",
          "traceback": [
            "\u001b[0;31m---------------------------------------------------------------------------\u001b[0m",
            "\u001b[0;31mNameError\u001b[0m                                 Traceback (most recent call last)",
            "\u001b[0;32m<ipython-input-16-0721258203bb>\u001b[0m in \u001b[0;36m<cell line: 1>\u001b[0;34m()\u001b[0m\n\u001b[0;32m----> 1\u001b[0;31m \u001b[0mfig\u001b[0m\u001b[0;34m,\u001b[0m \u001b[0max\u001b[0m \u001b[0;34m=\u001b[0m \u001b[0mplt\u001b[0m\u001b[0;34m.\u001b[0m\u001b[0msubplots\u001b[0m\u001b[0;34m(\u001b[0m\u001b[0;36m2\u001b[0m\u001b[0;34m,\u001b[0m\u001b[0;36m1\u001b[0m\u001b[0;34m)\u001b[0m\u001b[0;34m\u001b[0m\u001b[0;34m\u001b[0m\u001b[0m\n\u001b[0m\u001b[1;32m      2\u001b[0m \u001b[0max\u001b[0m\u001b[0;34m[\u001b[0m\u001b[0;36m0\u001b[0m\u001b[0;34m]\u001b[0m\u001b[0;34m.\u001b[0m\u001b[0mplot\u001b[0m\u001b[0;34m(\u001b[0m\u001b[0mhist\u001b[0m\u001b[0;34m.\u001b[0m\u001b[0mhistory\u001b[0m\u001b[0;34m[\u001b[0m\u001b[0;34m'loss'\u001b[0m\u001b[0;34m]\u001b[0m\u001b[0;34m,\u001b[0m\u001b[0mc\u001b[0m\u001b[0;34m=\u001b[0m\u001b[0;34m'r'\u001b[0m\u001b[0;34m,\u001b[0m\u001b[0mlabel\u001b[0m\u001b[0;34m=\u001b[0m\u001b[0;34m'loss'\u001b[0m\u001b[0;34m)\u001b[0m\u001b[0;34m\u001b[0m\u001b[0;34m\u001b[0m\u001b[0m\n\u001b[1;32m      3\u001b[0m \u001b[0max\u001b[0m\u001b[0;34m[\u001b[0m\u001b[0;36m0\u001b[0m\u001b[0;34m]\u001b[0m\u001b[0;34m.\u001b[0m\u001b[0mplot\u001b[0m\u001b[0;34m(\u001b[0m\u001b[0mhist\u001b[0m\u001b[0;34m.\u001b[0m\u001b[0mhistory\u001b[0m\u001b[0;34m[\u001b[0m\u001b[0;34m'accuracy'\u001b[0m\u001b[0;34m]\u001b[0m\u001b[0;34m,\u001b[0m\u001b[0mc\u001b[0m\u001b[0;34m=\u001b[0m\u001b[0;34m'g'\u001b[0m\u001b[0;34m,\u001b[0m\u001b[0mlabel\u001b[0m\u001b[0;34m=\u001b[0m\u001b[0;34m'accuracy'\u001b[0m\u001b[0;34m)\u001b[0m\u001b[0;34m\u001b[0m\u001b[0;34m\u001b[0m\u001b[0m\n\u001b[1;32m      4\u001b[0m \u001b[0max\u001b[0m\u001b[0;34m[\u001b[0m\u001b[0;36m0\u001b[0m\u001b[0;34m]\u001b[0m\u001b[0;34m.\u001b[0m\u001b[0mtitle\u001b[0m\u001b[0;34m.\u001b[0m\u001b[0mset_text\u001b[0m\u001b[0;34m(\u001b[0m\u001b[0;34m'train'\u001b[0m\u001b[0;34m)\u001b[0m\u001b[0;34m\u001b[0m\u001b[0;34m\u001b[0m\u001b[0m\n\u001b[1;32m      5\u001b[0m \u001b[0;34m\u001b[0m\u001b[0m\n",
            "\u001b[0;31mNameError\u001b[0m: name 'plt' is not defined"
          ]
        }
      ]
    },
    {
      "cell_type": "code",
      "source": [
        "from tensorflow.keras.metrics import Precision, Recall, BinaryAccuracy\n",
        "import numpy as np"
      ],
      "metadata": {
        "id": "SPGm3mTqbB9E"
      },
      "execution_count": null,
      "outputs": []
    },
    {
      "cell_type": "code",
      "source": [
        "pre = Precision()\n",
        "re = Recall()\n",
        "acc = BinaryAccuracy()\n"
      ],
      "metadata": {
        "id": "pSLZzIXnbDzk"
      },
      "execution_count": null,
      "outputs": []
    },
    {
      "cell_type": "markdown",
      "source": [
        "sprawdzenie wynikow"
      ],
      "metadata": {
        "id": "ftzNK4HMALXw"
      }
    },
    {
      "cell_type": "code",
      "source": [
        "preds = []\n",
        "\n",
        "for batch in test.as_numpy_iterator():\n",
        "    X, y = batch\n",
        "    yhat = model.predict(X)\n",
        "    print(y)\n",
        "\n",
        "\n"
      ],
      "metadata": {
        "colab": {
          "base_uri": "https://localhost:8080/"
        },
        "id": "I4vjXGPMbFob",
        "outputId": "22d0821b-59bd-437a-e60e-5763be4bb044"
      },
      "execution_count": null,
      "outputs": [
        {
          "output_type": "stream",
          "name": "stdout",
          "text": [
            "1/1 [==============================] - 0s 39ms/step\n",
            "[3 2 2 2 1 4 3 3 1 1 1 1 1 3 4 1 0 3 2 2 1 1 2 4 0 0 0 1 3 1 1 3]\n",
            "1/1 [==============================] - 0s 34ms/step\n",
            "[3 3 1 1 1 2 2 3 2 3 4 3 4 2 3 3 3 3 4 2 2]\n"
          ]
        }
      ]
    },
    {
      "cell_type": "code",
      "source": [
        "for arg in yhat:\n",
        "  preds.append(np.argmax(arg))\n",
        "  a = np.argmax(arg)\n"
      ],
      "metadata": {
        "id": "1GG4MY54bisl"
      },
      "execution_count": null,
      "outputs": []
    },
    {
      "cell_type": "code",
      "source": [
        "preds"
      ],
      "metadata": {
        "colab": {
          "base_uri": "https://localhost:8080/"
        },
        "id": "Q61Emax-9LBQ",
        "outputId": "b8b87576-e042-47d4-fc28-cf03559fb205"
      },
      "execution_count": null,
      "outputs": [
        {
          "output_type": "execute_result",
          "data": {
            "text/plain": [
              "[1, 1, 1, 3, 4, 2, 4, 1, 2, 0, 4, 2, 0, 0, 1, 3, 1, 1, 2, 2, 3]"
            ]
          },
          "metadata": {},
          "execution_count": 27
        }
      ]
    },
    {
      "cell_type": "code",
      "source": [
        "from tensorflow.keras.models import load_model\n"
      ],
      "metadata": {
        "id": "pM3LCouQxapV"
      },
      "execution_count": null,
      "outputs": []
    },
    {
      "cell_type": "code",
      "source": [
        "model.save(os.path.join('models','margo.h5'))"
      ],
      "metadata": {
        "id": "S8qp_WwwFAFU"
      },
      "execution_count": null,
      "outputs": []
    }
  ]
}